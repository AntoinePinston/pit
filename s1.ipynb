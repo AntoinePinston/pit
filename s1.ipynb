{
 "cells": [
  {
   "cell_type": "markdown",
   "metadata": {},
   "source": [
    "Classe objects\n",
    "-> partagé entre la classe et les instances de celle ci"
   ]
  },
  {
   "cell_type": "code",
   "execution_count": null,
   "metadata": {},
   "outputs": [],
   "source": [
    "class Storage:\n",
    "    elem = 1\n",
    "\n",
    "print(Storage.elem)\n",
    "print(Storage().elem)"
   ]
  },
  {
   "cell_type": "markdown",
   "metadata": {},
   "source": [
    "Devinez le comportement"
   ]
  },
  {
   "cell_type": "code",
   "execution_count": null,
   "metadata": {},
   "outputs": [],
   "source": [
    "store = Storage()\n",
    "store.elem = 2\n",
    "print(Storage.elem)\n",
    "print(store.elem)"
   ]
  },
  {
   "cell_type": "code",
   "execution_count": null,
   "metadata": {},
   "outputs": [],
   "source": [
    "class Warehouse():\n",
    "    elem = 1\n",
    "\n",
    "    @classmethod\n",
    "    def edit_elem(cls, value):\n",
    "        cls.elem = value\n",
    "\n",
    "    def edit_self_elem(self, value):\n",
    "        self.elem = value\n",
    "\n",
    "ware = Warehouse()\n",
    "ware.elem = 2\n",
    "ware.edit_elem(3)\n",
    "\n",
    "house = Warehouse()\n",
    "house.edit_self_elem(5)\n",
    "\n",
    "print(Warehouse.elem)\n",
    "print(ware.elem)\n",
    "print(house.elem)"
   ]
  },
  {
   "cell_type": "code",
   "execution_count": null,
   "metadata": {},
   "outputs": [],
   "source": [
    "class Parking:\n",
    "    cars = []\n",
    "\n",
    "    @classmethod\n",
    "    def add_to_cars(cls, car):\n",
    "        cls.cars.append(car)\n",
    "\n",
    "    def add_to_self_car(self, car):\n",
    "        self.cars.append(car)\n",
    "\n",
    "car1 = \"01\"\n",
    "car2 = \"02\"\n",
    "\n",
    "p1 = Parking()\n",
    "p2 = Parking()\n",
    "\n",
    "p1.add_to_cars(car1)\n",
    "print(Parking.cars)\n",
    "\n"
   ]
  },
  {
   "cell_type": "code",
   "execution_count": null,
   "metadata": {},
   "outputs": [],
   "source": [
    "p2.add_to_self_car(car2)\n",
    "print(Parking.cars)\n",
    "print(p1.cars)\n",
    "print(p2.cars)"
   ]
  }
 ],
 "metadata": {
  "kernelspec": {
   "display_name": "base",
   "language": "python",
   "name": "python3"
  },
  "language_info": {
   "codemirror_mode": {
    "name": "ipython",
    "version": 3
   },
   "file_extension": ".py",
   "mimetype": "text/x-python",
   "name": "python",
   "nbconvert_exporter": "python",
   "pygments_lexer": "ipython3",
   "version": "3.11.4"
  },
  "orig_nbformat": 4
 },
 "nbformat": 4,
 "nbformat_minor": 2
}
