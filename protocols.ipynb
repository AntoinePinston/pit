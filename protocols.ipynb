{
 "cells": [
  {
   "cell_type": "code",
   "execution_count": null,
   "metadata": {},
   "outputs": [],
   "source": [
    "from abc import ABC, abstractmethod\n",
    "\n",
    "\n",
    "class PeelableFruit(ABC):\n",
    "    @abstractmethod\n",
    "    def eat(self) -> None:\n",
    "        raise NotImplementedError\n",
    "\n",
    "    @abstractmethod\n",
    "    def peel(self) -> None:\n",
    "        raise NotImplementedError\n",
    "\n",
    "\n",
    "def peel_fruit(fruit: PeelableFruit) -> None:\n",
    "    fruit.peel()"
   ]
  },
  {
   "cell_type": "code",
   "execution_count": null,
   "metadata": {},
   "outputs": [],
   "source": [
    "class Banana(PeelableFruit):\n",
    "    def eat(self):\n",
    "        print(\"Eating a banana\")\n",
    "\n",
    "    # def peel(self):\n",
    "    #     print(\"Peeling a banana\")"
   ]
  },
  {
   "cell_type": "code",
   "execution_count": null,
   "metadata": {},
   "outputs": [],
   "source": [
    "peel_fruit(fruit=Banana())"
   ]
  },
  {
   "cell_type": "code",
   "execution_count": null,
   "metadata": {},
   "outputs": [],
   "source": [
    "Banana()"
   ]
  },
  {
   "cell_type": "code",
   "execution_count": null,
   "metadata": {},
   "outputs": [],
   "source": [
    "raise InterruptedError()"
   ]
  },
  {
   "cell_type": "code",
   "execution_count": 5,
   "metadata": {},
   "outputs": [],
   "source": [
    "from typing import Protocol\n",
    "\n",
    "\n",
    "class PeelableFruit(Protocol):\n",
    "    def eat(self) -> None:\n",
    "        ...\n",
    "\n",
    "    def peel(self) -> None:\n",
    "        ...\n",
    "\n",
    "\n",
    "def peel_fruit(fruit: PeelableFruit) -> None:\n",
    "    fruit.peel()"
   ]
  },
  {
   "cell_type": "code",
   "execution_count": 6,
   "metadata": {},
   "outputs": [],
   "source": [
    "class Lemon:\n",
    "    def eat(self):\n",
    "        print(\"Eating a banana\")\n",
    "\n",
    "    # def peel(self):\n",
    "    #     print(\"Peeling a banana\")"
   ]
  },
  {
   "cell_type": "code",
   "execution_count": 8,
   "metadata": {},
   "outputs": [
    {
     "ename": "AttributeError",
     "evalue": "'Lemon' object has no attribute 'peel'",
     "output_type": "error",
     "traceback": [
      "\u001b[0;31m---------------------------------------------------------------------------\u001b[0m",
      "\u001b[0;31mAttributeError\u001b[0m                            Traceback (most recent call last)",
      "\u001b[1;32m/home/matruel/Documents/ingeliance/pit/protocols.ipynb Cell 8\u001b[0m line \u001b[0;36m1\n\u001b[0;32m----> <a href='vscode-notebook-cell:/home/matruel/Documents/ingeliance/pit/protocols.ipynb#X12sZmlsZQ%3D%3D?line=0'>1</a>\u001b[0m peel_fruit(fruit\u001b[39m=\u001b[39;49mLemon())\n",
      "\u001b[1;32m/home/matruel/Documents/ingeliance/pit/protocols.ipynb Cell 8\u001b[0m line \u001b[0;36m1\n\u001b[1;32m     <a href='vscode-notebook-cell:/home/matruel/Documents/ingeliance/pit/protocols.ipynb#X12sZmlsZQ%3D%3D?line=10'>11</a>\u001b[0m \u001b[39mdef\u001b[39;00m \u001b[39mpeel_fruit\u001b[39m(fruit: PeelableFruit) \u001b[39m-\u001b[39m\u001b[39m>\u001b[39m \u001b[39mNone\u001b[39;00m:\n\u001b[0;32m---> <a href='vscode-notebook-cell:/home/matruel/Documents/ingeliance/pit/protocols.ipynb#X12sZmlsZQ%3D%3D?line=11'>12</a>\u001b[0m     fruit\u001b[39m.\u001b[39;49mpeel()\n",
      "\u001b[0;31mAttributeError\u001b[0m: 'Lemon' object has no attribute 'peel'"
     ]
    }
   ],
   "source": [
    "peel_fruit(fruit=Lemon())"
   ]
  },
  {
   "cell_type": "code",
   "execution_count": null,
   "metadata": {},
   "outputs": [],
   "source": [
    "lemon: PeelableFruit = Lemon()"
   ]
  },
  {
   "cell_type": "code",
   "execution_count": null,
   "metadata": {},
   "outputs": [],
   "source": [
    "lemon.peel()"
   ]
  }
 ],
 "metadata": {
  "kernelspec": {
   "display_name": ".venv",
   "language": "python",
   "name": "python3"
  },
  "language_info": {
   "codemirror_mode": {
    "name": "ipython",
    "version": 3
   },
   "file_extension": ".py",
   "mimetype": "text/x-python",
   "name": "python",
   "nbconvert_exporter": "python",
   "pygments_lexer": "ipython3",
   "version": "3.12.0"
  }
 },
 "nbformat": 4,
 "nbformat_minor": 2
}
