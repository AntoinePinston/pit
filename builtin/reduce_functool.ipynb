{
 "cells": [
  {
   "cell_type": "code",
   "execution_count": null,
   "metadata": {},
   "outputs": [],
   "source": [
    "# Faire la somme de nombre de 1 à 100 de maniere classique\n",
    "\n",
    "somme = 0\n",
    "for i in range(1, 101):\n",
    "    somme += i\n",
    "\n",
    "print(somme)\n",
    "\n",
    "# Autre maniere de faire mais c'est pas le sujet\n",
    "print(sum(range(1, 101)))\n",
    "print(101 * 100 // 2)"
   ]
  },
  {
   "cell_type": "code",
   "execution_count": null,
   "metadata": {},
   "outputs": [],
   "source": [
    "# Faire la somme de nombre de 1 à 100 avec reduce\n",
    "\n",
    "from functools import reduce\n",
    "\n",
    "somme = reduce(lambda curr, acc: curr + acc, range(1, 101), 0)\n",
    "\n",
    "print(somme)"
   ]
  },
  {
   "cell_type": "code",
   "execution_count": null,
   "metadata": {},
   "outputs": [],
   "source": [
    "# Avec des listes \n",
    "\n",
    "liste_1 = [1, 2, 3, 4, 5]\n",
    "liste_2 = [6, 7, 8, 9, 10, 11, 12]\n",
    "liste_3 = [13, 14, 15, 16, 17, 18, 19, 20]\n",
    "\n",
    "listes = [liste_1, liste_2, liste_3]\n",
    "\n",
    "# Concatener les listes\n",
    "liste_concat = reduce(lambda curr, acc: [*curr , *acc], listes, [])\n",
    "\n",
    "print(liste_concat)"
   ]
  },
  {
   "cell_type": "code",
   "execution_count": null,
   "metadata": {},
   "outputs": [],
   "source": [
    "import random\n",
    "\n",
    "def generate_random_list():\n",
    "    return [random.randint(0, 1000) for _ in range(random.randint(1, 10))]\n",
    "\n",
    "# Liste de liste random\n",
    "random_listes = [generate_random_list() for _ in range(random.randint(1, 10))]\n",
    "\n",
    "print(random_listes)\n",
    "\n",
    "# Concatener les listes\n",
    "liste_concat = reduce(lambda curr, acc: [*curr , *acc], random_listes, [])\n",
    "\n",
    "print(liste_concat)"
   ]
  },
  {
   "cell_type": "code",
   "execution_count": null,
   "metadata": {},
   "outputs": [],
   "source": [
    "# Meme chose avec des dictionnaires\n",
    "\n",
    "dico_1 = {\"a\": 1, \"b\": 2, \"c\": 3}\n",
    "dico_2 = {\"d\": 4, \"e\": 5, \"f\": 6}\n",
    "dico_3 = {\"g\": 7, \"h\": 8, \"i\": 9}\n",
    "\n",
    "dicos = [dico_1, dico_2, dico_3]\n",
    "\n",
    "# Concatener les dictionnaires\n",
    "dico_concat = reduce(lambda curr, acc: {**curr , **acc}, dicos, {})\n",
    "\n",
    "print(dico_concat)"
   ]
  },
  {
   "cell_type": "code",
   "execution_count": null,
   "metadata": {},
   "outputs": [],
   "source": [
    "# ou avec un objet\n",
    "import random\n",
    "\n",
    "class Game:\n",
    "    def __init__(self, name, price):\n",
    "        self.name = name\n",
    "        self.price = price\n",
    "\n",
    "    def __repr__(self):\n",
    "        return f\"{self.name}: {self.price} €\"\n",
    "\n",
    "games = [Game(f\"Game_{i}\", random.randint(0, 1000)) for i in range(random.randint(1, 10))]\n",
    "\n",
    "print(games)\n",
    "\n",
    "total_price = reduce(lambda curr, acc: curr + acc.price, games, 0)\n",
    "\n",
    "print(total_price)"
   ]
  },
  {
   "cell_type": "code",
   "execution_count": null,
   "metadata": {},
   "outputs": [],
   "source": [
    "import random\n",
    "\n",
    "class Point:\n",
    "    def __init__(self, x, y):\n",
    "        self.x = x\n",
    "        self.y = y\n",
    "\n",
    "    def __repr__(self):\n",
    "        return f\"({self.x}, {self.y})\"\n",
    "\n",
    "points = [Point(1,0), Point(0,2)]\n",
    "\n",
    "print(points)\n",
    "\n",
    "# Calculer la somme des normes des points\n",
    "\n",
    "def norme(curr: float, acc: Point) -> float:\n",
    "    return curr + (acc.x ** 2 + acc.y ** 2) ** 0.5\n",
    "\n",
    "total_norme = reduce(norme, points, 0)\n",
    "\n",
    "print(total_norme)"
   ]
  },
  {
   "cell_type": "code",
   "execution_count": null,
   "metadata": {},
   "outputs": [],
   "source": [
    "points = [Point(random.randint(0, 100), random.randint(0, 100)) for _ in range(random.randint(1, 10))]\n",
    "\n",
    "print(points)\n",
    "\n",
    "total_norme = reduce(norme, points, 0)\n",
    "\n",
    "print(total_norme)"
   ]
  }
 ],
 "metadata": {
  "kernelspec": {
   "display_name": "Python 3",
   "language": "python",
   "name": "python3"
  },
  "language_info": {
   "codemirror_mode": {
    "name": "ipython",
    "version": 3
   },
   "file_extension": ".py",
   "mimetype": "text/x-python",
   "name": "python",
   "nbconvert_exporter": "python",
   "pygments_lexer": "ipython3",
   "version": "3.11.6"
  }
 },
 "nbformat": 4,
 "nbformat_minor": 2
}
