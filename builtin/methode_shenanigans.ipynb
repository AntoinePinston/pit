{
 "cells": [
  {
   "cell_type": "markdown",
   "metadata": {},
   "source": [
    "Fonctionnement des méthodes & des classes en python"
   ]
  },
  {
   "cell_type": "code",
   "execution_count": 4,
   "metadata": {},
   "outputs": [
    {
     "name": "stdout",
     "output_type": "stream",
     "text": [
      "foo\n",
      "<function foo at 0x0000026E150A5DC0>\n",
      "bar\n",
      "<bound method A.bar of <__main__.A object at 0x0000026E15310460>>\n"
     ]
    }
   ],
   "source": [
    "def foo():\n",
    "    print(\"foo\")\n",
    "\n",
    "foo()\n",
    "print(foo)\n",
    "\n",
    "class A:\n",
    "    def bar(self):\n",
    "        print(\"bar\")\n",
    "\n",
    "a = A()\n",
    "a.bar()\n",
    "print(a.bar)"
   ]
  },
  {
   "cell_type": "markdown",
   "metadata": {},
   "source": [
    "Comment bound une méthode alors ?"
   ]
  },
  {
   "cell_type": "code",
   "execution_count": 14,
   "metadata": {},
   "outputs": [
    {
     "name": "stdout",
     "output_type": "stream",
     "text": [
      "<function toti at 0x0000026E15468790>\n",
      "toti\n",
      "<bound method toti of <__main__.A object at 0x0000026E1537CCA0>>\n",
      "toti\n"
     ]
    }
   ],
   "source": [
    "def toti(self):\n",
    "    print(\"toti\")\n",
    "\n",
    "a_ter = A()\n",
    "A.toti = toti\n",
    "a2 = A()\n",
    "print(toti)\n",
    "a2.toti()\n",
    "print(a2.toti)\n",
    "a_ter.toti()"
   ]
  },
  {
   "cell_type": "code",
   "execution_count": 15,
   "metadata": {},
   "outputs": [],
   "source": [
    "class A:\n",
    "    def bar(self):\n",
    "        print(\"bar\")\n",
    "\n",
    "a3 = A()\n",
    "a3.toti = toti\n",
    "# a3.toti()"
   ]
  },
  {
   "cell_type": "code",
   "execution_count": 18,
   "metadata": {},
   "outputs": [
    {
     "name": "stdout",
     "output_type": "stream",
     "text": [
      "houra\n",
      "pas de houra\n"
     ]
    }
   ],
   "source": [
    "import types\n",
    "\n",
    "class B:\n",
    "    def boo(self):\n",
    "        print(\"boo\")\n",
    "\n",
    "def houra(self):\n",
    "    print(\"houra\")\n",
    "\n",
    "b = B()\n",
    "b.houra = types.MethodType(houra, b)\n",
    "b.houra()\n",
    "\n",
    "try:\n",
    "    b2 = B()\n",
    "    b2.houra()\n",
    "except Exception:\n",
    "    print(\"pas de houra\")"
   ]
  }
 ],
 "metadata": {
  "kernelspec": {
   "display_name": "base",
   "language": "python",
   "name": "python3"
  },
  "language_info": {
   "codemirror_mode": {
    "name": "ipython",
    "version": 3
   },
   "file_extension": ".py",
   "mimetype": "text/x-python",
   "name": "python",
   "nbconvert_exporter": "python",
   "pygments_lexer": "ipython3",
   "version": "3.8.10"
  },
  "orig_nbformat": 4
 },
 "nbformat": 4,
 "nbformat_minor": 2
}
