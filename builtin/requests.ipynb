{
 "cells": [
  {
   "cell_type": "code",
   "execution_count": null,
   "metadata": {},
   "outputs": [],
   "source": [
    "import requests\n",
    "\n",
    "POKEMON_PATH = \"https://pokeapi.co/api/v2/\"\n",
    "\n",
    "def get_pokemon(pokemon_name_or_id: str | int):\n",
    "    pokemon = requests.get(f\"{POKEMON_PATH}pokemon/{pokemon_name_or_id}/\")\n",
    "    return pokemon.json()\n",
    "\n",
    "pikachu = get_pokemon(25)\n",
    "\n",
    "print(pikachu)\n",
    "print(\"nom : \", pikachu[\"name\"])\n",
    "print(\"type : \", pikachu[\"types\"][0][\"type\"][\"name\"])"
   ]
  },
  {
   "cell_type": "code",
   "execution_count": null,
   "metadata": {},
   "outputs": [],
   "source": [
    "MATHIAS_URL = \"https://mathias.truel.fr\"\n",
    "\n",
    "import re\n",
    "\n",
    "def find_emails(html: str):\n",
    "    email_pattern = r\"[a-zA-Z0-9_.+-]+@[a-zA-Z0-9-]+\\.[a-zA-Z0-9-.]+\"\n",
    "    return re.findall(email_pattern, html)\n",
    "\n",
    "html_site = requests.get(MATHIAS_URL)\n",
    "\n",
    "email_mathias = find_emails(html_site.text)\n",
    "\n",
    "print(email_mathias)"
   ]
  },
  {
   "cell_type": "code",
   "execution_count": null,
   "metadata": {},
   "outputs": [],
   "source": [
    "PRISMA_FLASK_URL = \"http://localhost:5000/users/\"\n",
    "\n",
    "def create_user(name: str, email: str):\n",
    "    response = requests.post(url=PRISMA_FLASK_URL, data={\"name\": name, \"email\": email})\n",
    "\n",
    "    return response.text\n",
    "\n",
    "def get_users():\n",
    "    response = requests.get(url=PRISMA_FLASK_URL)\n",
    "\n",
    "    return response.json()\n",
    "\n",
    "print(get_users())\n",
    "print(create_user(\"Mathias\", email_mathias[0]))\n",
    "print(get_users())"
   ]
  }
 ],
 "metadata": {
  "kernelspec": {
   "display_name": "Python 3",
   "language": "python",
   "name": "python3"
  },
  "language_info": {
   "codemirror_mode": {
    "name": "ipython",
    "version": 3
   },
   "file_extension": ".py",
   "mimetype": "text/x-python",
   "name": "python",
   "nbconvert_exporter": "python",
   "pygments_lexer": "ipython3",
   "version": "3.11.6"
  }
 },
 "nbformat": 4,
 "nbformat_minor": 2
}
