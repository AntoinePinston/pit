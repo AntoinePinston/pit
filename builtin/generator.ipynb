{
 "cells": [
  {
   "cell_type": "markdown",
   "metadata": {},
   "source": [
    "La joie des des generators"
   ]
  },
  {
   "cell_type": "code",
   "execution_count": 14,
   "metadata": {},
   "outputs": [
    {
     "data": {
      "text/plain": [
       "[4, 9, 16]"
      ]
     },
     "execution_count": 14,
     "metadata": {},
     "output_type": "execute_result"
    }
   ],
   "source": [
    "def au_carre(x):\n",
    "    for i in range(1,x):\n",
    "        yield i**2\n",
    "\n",
    "print(au_carre)\n",
    "var = au_carre(5)\n",
    "\n",
    "print(next(var))\n",
    "[x for x in var]"
   ]
  },
  {
   "cell_type": "code",
   "execution_count": 19,
   "metadata": {},
   "outputs": [
    {
     "name": "stdout",
     "output_type": "stream",
     "text": [
      "8\n",
      "0\n",
      "0\n",
      "10\n",
      "6\n",
      "2\n",
      "3\n",
      "10\n",
      "8\n",
      "3\n"
     ]
    }
   ],
   "source": [
    "from random import randint\n",
    "\n",
    "\n",
    "class MyRandomGenerator:\n",
    "    def __init__(self, max_int) -> None:\n",
    "        self.max_int = max_int\n",
    "\n",
    "    def __iter__(self):\n",
    "        return self\n",
    "        \n",
    "    def __next__(self):\n",
    "        return randint(0, self.max_int)\n",
    "\n",
    "aleatoire_generator = MyRandomGenerator(10)\n",
    "for x in range(10):\n",
    "    print(next(aleatoire_generator))\n"
   ]
  }
 ],
 "metadata": {
  "kernelspec": {
   "display_name": "base",
   "language": "python",
   "name": "python3"
  },
  "language_info": {
   "codemirror_mode": {
    "name": "ipython",
    "version": 3
   },
   "file_extension": ".py",
   "mimetype": "text/x-python",
   "name": "python",
   "nbconvert_exporter": "python",
   "pygments_lexer": "ipython3",
   "version": "3.8.10"
  },
  "orig_nbformat": 4
 },
 "nbformat": 4,
 "nbformat_minor": 2
}
