{
 "cells": [
  {
   "cell_type": "code",
   "execution_count": 30,
   "metadata": {},
   "outputs": [
    {
     "data": {
      "text/plain": [
       "9"
      ]
     },
     "execution_count": 30,
     "metadata": {},
     "output_type": "execute_result"
    }
   ],
   "source": [
    "from functools import partial\n",
    "\n",
    "\n",
    "# Permet de créer une fonction à partir d'une\n",
    "# autre en fixant certains paramètres\n",
    "def add(a, b, c):\n",
    "    return a + b\n",
    "\n",
    "\n",
    "add_5 = partial(add, c=5)\n",
    "add_5(3, 6)  #"
   ]
  },
  {
   "cell_type": "code",
   "execution_count": 10,
   "metadata": {},
   "outputs": [
    {
     "data": {
      "text/plain": [
       "[6, 7, 8, 9]"
      ]
     },
     "execution_count": 10,
     "metadata": {},
     "output_type": "execute_result"
    }
   ],
   "source": [
    "# Exemple multiprocess\n",
    "from multiprocessing import Pool\n",
    "pool = Pool(4)\n",
    "pool.map(add_5, [1, 2, 3, 4])\n"
   ]
  },
  {
   "cell_type": "code",
   "execution_count": 11,
   "metadata": {},
   "outputs": [],
   "source": [
    "from functools import partialmethod\n",
    "\n",
    "\n",
    "class Cell:\n",
    "    def __init__(self):\n",
    "        self._alive = False\n",
    "\n",
    "    @property\n",
    "    def alive(self):\n",
    "        return self._alive\n",
    "    \n",
    "    @property.setter\n",
    "    def set_alive(self, state):\n",
    "        self._alive = bool(state)\n",
    "    \n",
    "\n",
    "    def set_state(self, state):\n",
    "        self._alive = bool(state)\n",
    "\n",
    "    set_alive = partialmethod(set_state, True)\n",
    "    set_dead = partialmethod(set_state, False)"
   ]
  },
  {
   "cell_type": "code",
   "execution_count": 12,
   "metadata": {},
   "outputs": [
    {
     "data": {
      "text/plain": [
       "False"
      ]
     },
     "execution_count": 12,
     "metadata": {},
     "output_type": "execute_result"
    }
   ],
   "source": [
    "c = Cell()\n",
    "c.alive = True\n",
    "c.set_alive()\n",
    "c.alive  # True\n",
    "c.set_dead()\n",
    "c.alive  # False"
   ]
  }
 ],
 "metadata": {
  "kernelspec": {
   "display_name": "rom",
   "language": "python",
   "name": "python3"
  },
  "language_info": {
   "codemirror_mode": {
    "name": "ipython",
    "version": 3
   },
   "file_extension": ".py",
   "mimetype": "text/x-python",
   "name": "python",
   "nbconvert_exporter": "python",
   "pygments_lexer": "ipython3",
   "version": "3.12.0"
  }
 },
 "nbformat": 4,
 "nbformat_minor": 2
}
