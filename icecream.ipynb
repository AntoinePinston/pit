{
 "cells": [
  {
   "cell_type": "markdown",
   "metadata": {},
   "source": [
    "# Icecream\n",
    "Icecream apporte la commande ic qui permet de débug avec des print. "
   ]
  },
  {
   "cell_type": "code",
   "execution_count": 10,
   "metadata": {},
   "outputs": [],
   "source": [
    "from icecream import ic"
   ]
  },
  {
   "cell_type": "code",
   "execution_count": 11,
   "metadata": {},
   "outputs": [],
   "source": [
    "import numpy as np"
   ]
  },
  {
   "cell_type": "markdown",
   "metadata": {},
   "source": [
    "Print the variable in the code. "
   ]
  },
  {
   "cell_type": "code",
   "execution_count": 12,
   "metadata": {},
   "outputs": [
    {
     "name": "stderr",
     "output_type": "stream",
     "text": [
      "ic| np.random.random((2, 3, 5)): array([[[0.44541087, 0.99673622, 0.61239078, 0.17694838, 0.70192157],\n",
      "                                         [0.94461108, 0.92073887, 0.58671871, 0.85559705, 0.25631552],\n",
      "                                         [0.87246405, 0.45070277, 0.08715733, 0.0069589 , 0.03793961]],\n",
      "                                 \n",
      "                                        [[0.79111539, 0.89032619, 0.05691528, 0.41085424, 0.3002964 ],\n",
      "                                         [0.22792393, 0.80264652, 0.41285714, 0.01389641, 0.95232465],\n",
      "                                         [0.68553312, 0.81556892, 0.72958736, 0.76668289, 0.92335066]]])\n",
      "ic| a.shape: (2, 3, 5)\n"
     ]
    }
   ],
   "source": [
    "a = ic(np.random.random((2, 3, 5)))\n",
    "shape = ic(a.shape)"
   ]
  },
  {
   "cell_type": "markdown",
   "metadata": {},
   "source": [
    "See where it fails. "
   ]
  },
  {
   "cell_type": "code",
   "execution_count": 13,
   "metadata": {},
   "outputs": [
    {
     "name": "stderr",
     "output_type": "stream",
     "text": [
      "ic| 874523910.py:9 in <module> at 14:41:26.105\n",
      "ic| 874523910.py:18 in <module> at 14:41:26.125\n",
      "ic| result1: array([11, 12, 13, 14, 15])\n",
      "ic| result2: array([ 2,  4,  6,  8, 10])\n",
      "ic| result3: array([1.        , 1.41421356, 1.73205081, 2.        , 2.23606798])\n",
      "ic| result4: array([ 7,  9, 11, 13, 15])\n",
      "ic| result5: array([ 6, 14, 24, 36, 50])\n",
      "ic| result6: 130\n"
     ]
    },
    {
     "data": {
      "text/plain": [
       "130"
      ]
     },
     "execution_count": 13,
     "metadata": {},
     "output_type": "execute_result"
    }
   ],
   "source": [
    "import numpy as np\n",
    "# Big lines of code\n",
    "a = 23\n",
    "averylong_var = a + 5 \n",
    "\n",
    "\n",
    "# Create a numpy array\n",
    "arr1 = np.array([1, 2, 3, 4, 5])\n",
    "ic()\n",
    "\n",
    "# Perform mathematical operations\n",
    "result1 = arr1 + 10\n",
    "result2 = arr1 * 2\n",
    "result3 = np.sqrt(arr1)\n",
    "\n",
    "# Create another numpy array\n",
    "arr2 = np.array([6, 7, 8, 9, 10])\n",
    "ic()\n",
    "\n",
    "# Perform array operations\n",
    "result4 = arr1 + arr2\n",
    "result5 = arr1 * arr2\n",
    "result6 = np.dot(arr1, arr2)\n",
    "\n",
    "# Print the results\n",
    "ic(result1)\n",
    "ic(result2)\n",
    "ic(result3)\n",
    "ic(result4)\n",
    "ic(result5)\n",
    "ic(result6)\n"
   ]
  }
 ],
 "metadata": {
  "kernelspec": {
   "display_name": ".venv",
   "language": "python",
   "name": "python3"
  },
  "language_info": {
   "codemirror_mode": {
    "name": "ipython",
    "version": 3
   },
   "file_extension": ".py",
   "mimetype": "text/x-python",
   "name": "python",
   "nbconvert_exporter": "python",
   "pygments_lexer": "ipython3",
   "version": "3.12.0"
  }
 },
 "nbformat": 4,
 "nbformat_minor": 2
}
